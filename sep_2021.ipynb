{
  "nbformat": 4,
  "nbformat_minor": 0,
  "metadata": {
    "colab": {
      "name": "sep 2021.ipynb",
      "provenance": [],
      "collapsed_sections": [],
      "authorship_tag": "ABX9TyOpWpXKV/R8bW+bPQ3rzz/C",
      "include_colab_link": true
    },
    "kernelspec": {
      "name": "python3",
      "display_name": "Python 3"
    },
    "language_info": {
      "name": "python"
    }
  },
  "cells": [
    {
      "cell_type": "markdown",
      "metadata": {
        "id": "view-in-github",
        "colab_type": "text"
      },
      "source": [
        "<a href=\"https://colab.research.google.com/github/DanteTHE3rd/Com-labs/blob/main/sep_2021.ipynb\" target=\"_parent\"><img src=\"https://colab.research.google.com/assets/colab-badge.svg\" alt=\"Open In Colab\"/></a>"
      ]
    },
    {
      "cell_type": "markdown",
      "metadata": {
        "id": "fdk-33Lf1rAl"
      },
      "source": [
        "# **GP 106 Numpy and Matplotlib**"
      ]
    },
    {
      "cell_type": "code",
      "metadata": {
        "colab": {
          "base_uri": "https://localhost:8080/"
        },
        "id": "mI8Z8pWx1mgS",
        "outputId": "04903fe2-2d62-4c9c-8230-6a721a6527d2"
      },
      "source": [
        "test1 = [1, 2, 3] # This is a list \n",
        "# print(type(test1))\n",
        "\n",
        "import numpy as np\n",
        "\n",
        "test2 = np.array(test1) # A numpy array more useful than a list\n",
        "# print(type(test2))\n"
      ],
      "execution_count": null,
      "outputs": [
        {
          "output_type": "stream",
          "name": "stdout",
          "text": [
            "<class 'list'>\n",
            "<class 'numpy.ndarray'>\n"
          ]
        }
      ]
    },
    {
      "cell_type": "markdown",
      "metadata": {
        "id": "-FTO3pfk3Nv7"
      },
      "source": [
        "Vectors ==> 1D arrays\n"
      ]
    },
    {
      "cell_type": "code",
      "metadata": {
        "colab": {
          "base_uri": "https://localhost:8080/"
        },
        "id": "Q6ZZEkLk3VKw",
        "outputId": "7cca406a-37ed-453c-91f0-96388b440817"
      },
      "source": [
        "import numpy as np\n",
        "\n",
        "# Row vector\n",
        "a = np.array([1, 2, 3, 4, 5])\n",
        "print(a)\n",
        "print(type(a))\n",
        "print(a.shape) # no of dimentons\n",
        "print(a.size) # no of elements\n",
        "print(a[0]) # accesseing the first element\n"
      ],
      "execution_count": null,
      "outputs": [
        {
          "output_type": "stream",
          "name": "stdout",
          "text": [
            "[1 2 3 4 5]\n",
            "<class 'numpy.ndarray'>\n",
            "(5,)\n",
            "5\n",
            "1\n"
          ]
        }
      ]
    },
    {
      "cell_type": "code",
      "metadata": {
        "colab": {
          "base_uri": "https://localhost:8080/"
        },
        "id": "p7XvH-CI4DVN",
        "outputId": "c1854624-0ee4-4407-dbeb-f04dbe6b98d1"
      },
      "source": [
        "# Column vector\n",
        "b = np.array([[1], [2], [3], [4], [5]])\n",
        "print(b)\n",
        "print(b.shape)\n",
        "print(b.size)\n",
        "print(b[0])"
      ],
      "execution_count": null,
      "outputs": [
        {
          "output_type": "stream",
          "name": "stdout",
          "text": [
            "[[1]\n",
            " [2]\n",
            " [3]\n",
            " [4]\n",
            " [5]]\n",
            "(5, 1)\n",
            "5\n",
            "[1]\n"
          ]
        }
      ]
    },
    {
      "cell_type": "code",
      "metadata": {
        "colab": {
          "base_uri": "https://localhost:8080/"
        },
        "id": "2sizW33-4xr3",
        "outputId": "5242e6ff-3ebf-49b6-9e02-d57d23d0164d"
      },
      "source": [
        "# generating vectors\n",
        "one2ten = np.arange(1, 11 ) \n",
        "evenone2ten = np.arange(2,11,2) # menton starting value, end value, step size.\n",
        "oddone2ten = np.arange(1,11,2)\n",
        "\n",
        "print(one2ten)\n",
        "print(evenone2ten)\n",
        "print(oddone2ten)"
      ],
      "execution_count": null,
      "outputs": [
        {
          "output_type": "stream",
          "name": "stdout",
          "text": [
            "[ 1  2  3  4  5  6  7  8  9 10]\n",
            "[ 2  4  6  8 10]\n",
            "[1 3 5 7 9]\n"
          ]
        }
      ]
    },
    {
      "cell_type": "code",
      "metadata": {
        "colab": {
          "base_uri": "https://localhost:8080/"
        },
        "id": "KSpDNwjk7Bdj",
        "outputId": "b52102ce-1e15-4905-cea7-b001f259e34f"
      },
      "source": [
        "# Generating linear spaced vectors\n",
        "\n",
        "y = np.linspace(1, 100) # print 50 random numbers between 1 to 100\n",
        "print(y)\n",
        "print(y.shape)\n",
        "\n",
        "x = np.linspace(1, 100, 10) # get 10 no from 1 to 100 in np array\n",
        "print(x)"
      ],
      "execution_count": null,
      "outputs": [
        {
          "output_type": "stream",
          "name": "stdout",
          "text": [
            "[  1.           3.02040816   5.04081633   7.06122449   9.08163265\n",
            "  11.10204082  13.12244898  15.14285714  17.16326531  19.18367347\n",
            "  21.20408163  23.2244898   25.24489796  27.26530612  29.28571429\n",
            "  31.30612245  33.32653061  35.34693878  37.36734694  39.3877551\n",
            "  41.40816327  43.42857143  45.44897959  47.46938776  49.48979592\n",
            "  51.51020408  53.53061224  55.55102041  57.57142857  59.59183673\n",
            "  61.6122449   63.63265306  65.65306122  67.67346939  69.69387755\n",
            "  71.71428571  73.73469388  75.75510204  77.7755102   79.79591837\n",
            "  81.81632653  83.83673469  85.85714286  87.87755102  89.89795918\n",
            "  91.91836735  93.93877551  95.95918367  97.97959184 100.        ]\n",
            "(50,)\n",
            "[  1.  12.  23.  34.  45.  56.  67.  78.  89. 100.]\n"
          ]
        }
      ]
    },
    {
      "cell_type": "code",
      "metadata": {
        "colab": {
          "base_uri": "https://localhost:8080/"
        },
        "id": "AMzE6Bc-7_eS",
        "outputId": "84422829-0e92-4d42-db25-2a804bb743e3"
      },
      "source": [
        "# Matrices ==> 2D arrays\n",
        "\n",
        "A = np.array([[1, 2, 3], [4, -5, 6], [5, -6 ,7]])\n",
        "print(A)\n",
        "print(A.shape)\n",
        "print(A[1][1]) # 2nd row 2nd column\n",
        "print(A[0][2]) # 1st row 3rd column"
      ],
      "execution_count": null,
      "outputs": [
        {
          "output_type": "stream",
          "name": "stdout",
          "text": [
            "[[ 1  2  3]\n",
            " [ 4 -5  6]\n",
            " [ 5 -6  7]]\n",
            "(3, 3)\n",
            "-5\n",
            "3\n"
          ]
        }
      ]
    },
    {
      "cell_type": "code",
      "metadata": {
        "colab": {
          "base_uri": "https://localhost:8080/"
        },
        "id": "HqG4UBKo9OFr",
        "outputId": "8e3a9737-fba9-42d2-f87e-ffb96ca3ede1"
      },
      "source": [
        "# generate vectors\n",
        "\n",
        "v = np.ones(5)\n",
        "print(v) \n",
        "print(type(v[0]))  # *** floating point numbers\n",
        "\n",
        "\n",
        "w = np.ones(5,  dtype=int)  # *** integer numbers\n",
        "print(w)\n",
        "\n",
        "r = np.ones((3, 1), dtype=int) # column vector\n",
        "print(r)\n",
        "\n"
      ],
      "execution_count": null,
      "outputs": [
        {
          "output_type": "stream",
          "name": "stdout",
          "text": [
            "[1. 1. 1. 1. 1.]\n",
            "<class 'numpy.float64'>\n",
            "[1 1 1 1 1]\n",
            "[[1]\n",
            " [1]\n",
            " [1]]\n",
            "[[1. 1. 1.]\n",
            " [1. 1. 1.]\n",
            " [1. 1. 1.]]\n"
          ]
        }
      ]
    },
    {
      "cell_type": "code",
      "metadata": {
        "colab": {
          "base_uri": "https://localhost:8080/"
        },
        "id": "j0AHG3Fw-dw6",
        "outputId": "e436896a-9703-4483-c796-7a81d7da6e73"
      },
      "source": [
        "# generate matrices\n",
        "\n",
        "p = np.ones((2, 3), dtype=int) # 2x3 matrix\n",
        "# print(p)\n",
        "\n",
        "q = np.zeros((3,2)) #3x2 martix filled with zeros (float)\n",
        "# print(q)\n",
        "\n",
        "print(np.eye(3)) # identity matix\n",
        "\n",
        "d = np.random.rand(3,2) # matrix filled with radom floats\n",
        "# print(d)\n",
        "\n",
        "e = np.random.randint(1,100 , 10) # 10 random numbers from 1 to 100 in a matrix (include 1 and 100)\n",
        "print(e)"
      ],
      "execution_count": null,
      "outputs": [
        {
          "output_type": "stream",
          "name": "stdout",
          "text": [
            "[[1. 0. 0.]\n",
            " [0. 1. 0.]\n",
            " [0. 0. 1.]]\n",
            "[ 7 19 42  3 83 43 42 98 33 70]\n"
          ]
        }
      ]
    },
    {
      "cell_type": "code",
      "metadata": {
        "colab": {
          "base_uri": "https://localhost:8080/"
        },
        "id": "wvpwvRpx93mr",
        "outputId": "af42529d-6f72-4139-b99d-a9203886da84"
      },
      "source": [
        "# how to access matices\n",
        "\n",
        "x = np.array([[1, 2, 3, 4], [6, 7, 8, 9], [10, 11, 12, 13], [14, 15, 16, 17]])\n",
        "print(x)\n",
        "print(x[2][3])\n",
        "print(x[2,3])\n",
        "print(x[2,:]) # get the 3rd row in a np array\n",
        "print(x[:,3]) # get the 4th column in a np array\n"
      ],
      "execution_count": null,
      "outputs": [
        {
          "output_type": "stream",
          "name": "stdout",
          "text": [
            "[[ 1  2  3  4]\n",
            " [ 6  7  8  9]\n",
            " [10 11 12 13]\n",
            " [14 15 16 17]]\n",
            "13\n",
            "13\n",
            "[10 11 12 13]\n",
            "<class 'numpy.ndarray'>\n"
          ]
        }
      ]
    },
    {
      "cell_type": "code",
      "metadata": {
        "id": "KJz51x5CBKce"
      },
      "source": [
        ""
      ],
      "execution_count": null,
      "outputs": []
    }
  ]
}